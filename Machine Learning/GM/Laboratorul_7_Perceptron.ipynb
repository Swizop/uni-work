{
  "nbformat": 4,
  "nbformat_minor": 0,
  "metadata": {
    "colab": {
      "name": "Laboratorul 7 Perceptron",
      "provenance": []
    },
    "kernelspec": {
      "name": "python3",
      "display_name": "Python 3"
    }
  },
  "cells": [
    {
      "cell_type": "code",
      "metadata": {
        "id": "xR7wegrOus-t",
        "colab_type": "code",
        "colab": {}
      },
      "source": [
        "import numpy as np\n",
        "import matplotlib.pyplot as plt"
      ],
      "execution_count": 0,
      "outputs": []
    },
    {
      "cell_type": "code",
      "metadata": {
        "id": "t1bmFfIMudR-",
        "colab_type": "code",
        "colab": {}
      },
      "source": [
        "X = np.array([[0, 0], [0, 1], [1, 0], [1, 1]])\n",
        "y = np.array([-1, 1, 1, 1])"
      ],
      "execution_count": 0,
      "outputs": []
    },
    {
      "cell_type": "code",
      "metadata": {
        "id": "mRPgblHluwPl",
        "colab_type": "code",
        "outputId": "0150d11d-b069-4457-d274-c6de56596200",
        "colab": {
          "base_uri": "https://localhost:8080/",
          "height": 265
        }
      },
      "source": [
        "plt.scatter(X[:, 0], X[:, 1], c=y, cmap='seismic')\n",
        "plt.plot([-0.1, 0.8], [0.8, -0.1])\n",
        "plt.show()"
      ],
      "execution_count": 0,
      "outputs": [
        {
          "output_type": "display_data",
          "data": {
            "image/png": "[encoded data removed]",
            "text/plain": [
              "<Figure size 432x288 with 1 Axes>"
            ]
          },
          "metadata": {
            "tags": [],
            "needs_background": "light"
          }
        }
      ]
    },
    {
      "cell_type": "code",
      "metadata": {
        "id": "U_RhH-1GvBja",
        "colab_type": "code",
        "colab": {}
      },
      "source": [
        "def compute_y(x, W, bias):\n",
        "    # dreapta de decizie\n",
        "    # [x, y] * [W[0], W[1]] + b = 0\n",
        "    EPSILON = 1e-10\n",
        "    return (-x * W[0] - bias) / (W[1] + EPSILON)\n",
        "\n",
        "def plot_decision_boundary(X, y, W, b, current_x, current_y):\n",
        "    x1 = -0.5\n",
        "    y1 = compute_y(x1, W, b)\n",
        "    x2 = 0.5\n",
        "    y2 = compute_y(x2, W, b)\n",
        "    \n",
        "    # sterge continutul ferestrei\n",
        "\n",
        "    # ploteaza multimea de antrenare\n",
        "    color = 'r'\n",
        "    if current_y == -1:\n",
        "        color = 'b'\n",
        "    plt.ylim((-1, 2))\n",
        "    plt.xlim((-1, 2))\n",
        "    plt.plot(X[y == -1, 0], X[y == -1, 1], 'b+')\n",
        "    plt.plot(X[y == 1, 0], X[y == 1, 1], 'r+')\n",
        "\n",
        "    # ploteaza exemplul curent\n",
        "    plt.plot(current_x[0], current_x[1], color+'s')\n",
        "\n",
        "    # afisarea dreptei de decizie\n",
        "    plt.plot([x1, x2] ,[y1, y2], 'black')"
      ],
      "execution_count": 0,
      "outputs": []
    },
    {
      "cell_type": "code",
      "metadata": {
        "id": "aa4Mi0cpwQec",
        "colab_type": "code",
        "colab": {}
      },
      "source": [
        "W = np.random.randn(2)\n",
        "b = np.random.randn(1)"
      ],
      "execution_count": 0,
      "outputs": []
    },
    {
      "cell_type": "code",
      "metadata": {
        "id": "Z7bag6Ijw41J",
        "colab_type": "code",
        "outputId": "0371212a-1f06-4416-bcbf-6c68fd6d6261",
        "colab": {
          "base_uri": "https://localhost:8080/",
          "height": 269
        }
      },
      "source": [
        "plot_decision_boundary(X, y, W, b, X[0], y[0])\n",
        "plt.show()"
      ],
      "execution_count": 0,
      "outputs": [
        {
          "output_type": "display_data",
          "data": {
            "image/png": "[encoded data removed]",
            "text/plain": [
              "<Figure size 432x288 with 1 Axes>"
            ]
          },
          "metadata": {
            "tags": [],
            "needs_background": "light"
          }
        }
      ]
    },
    {
      "cell_type": "code",
      "metadata": {
        "id": "KXOiF7uAxKhj",
        "colab_type": "code",
        "outputId": "ed4c2e25-4b91-4aeb-8292-2d3e537194a9",
        "colab": {
          "base_uri": "https://localhost:8080/",
          "height": 35
        }
      },
      "source": [
        "epochs = 70\n",
        "learning_rate = 1e-1\n",
        "\n",
        "total_loss = 0\n",
        "total_count = 0\n",
        "for epoch in range(epochs):\n",
        "    for x, y_true in zip(X, y):\n",
        "        y_hat = x @ W + b\n",
        "        y_diff = y_hat - y_true\n",
        "        loss = (y_diff ** 2) / 2\n",
        "        total_loss += loss.item()\n",
        "        W -= learning_rate * y_diff * x\n",
        "        b -= learning_rate * y_diff\n",
        "    total_count += len(y)\n",
        "\n",
        "average_loss = total_loss / total_count\n",
        "print(average_loss)"
      ],
      "execution_count": 0,
      "outputs": [
        {
          "output_type": "stream",
          "text": [
            "0.34437283099315025\n"
          ],
          "name": "stdout"
        }
      ]
    },
    {
      "cell_type": "code",
      "metadata": {
        "id": "nbtwkWoe0auu",
        "colab_type": "code",
        "colab": {}
      },
      "source": [
        "num_hidden_neurons = 3\n",
        "\n",
        "W_1 = np.random.randn(2, num_hidden_neurons)\n",
        "b_1 = np.zeros(num_hidden_neurons)\n",
        "\n",
        "W_2 = np.random.randn(num_hidden_neurons, 1)\n",
        "b_2 = np.zeros(1)"
      ],
      "execution_count": 0,
      "outputs": []
    },
    {
      "cell_type": "code",
      "metadata": {
        "id": "u6sdSxJd3OV2",
        "colab_type": "code",
        "colab": {}
      },
      "source": [
        "def sigmoid(z):\n",
        "    return 1 / (1 + np.exp(-z))\n",
        "\n",
        "def forward(X):\n",
        "    z_1 = X @ W_1 + b_1\n",
        "    a_1 = np.tanh(z_1)\n",
        "    z_2 = a_1 @ W_2 + b_2\n",
        "    a_2 = sigmoid(z_2)\n",
        "    return z_1, a_1, z_2, a_2\n",
        "\n",
        "z_1, a_1, z_2, a_2 = forward(X)\n",
        "\n",
        "\n",
        "loss = (-y * np.log(a_2) - (1 - y) * np.log(1 - a_2)).mean()\n",
        "accuracy = (np.round(a_2) == y).mean()"
      ],
      "execution_count": 0,
      "outputs": []
    },
    {
      "cell_type": "code",
      "metadata": {
        "id": "iKe6GJjD31RB",
        "colab_type": "code",
        "colab": {}
      },
      "source": [
        "def backward(a_1, a_2, z_1, W_2, X, Y, num_samples):\n",
        "    dz_2 = a_2 - y\n",
        "    dw_2 = (a_1.T @ d_z2) / num_samples\n",
        "    db_2 = np.sum(dz_2) / num_samples\n",
        "    da_1 = dz_2 @ W_2.T\n",
        "\n",
        "    dz_1 = da_1 * tanh_derivative(z_1)\n",
        "\n",
        "    dw_1 = X.T @ dz_1 / num_samples\n",
        "\n",
        "    db_1 = np.sum(dz_1) / num_samples\n",
        "\n",
        "    return dw_1, db_1, dw_2, db_2"
      ],
      "execution_count": 0,
      "outputs": []
    }
  ]
}