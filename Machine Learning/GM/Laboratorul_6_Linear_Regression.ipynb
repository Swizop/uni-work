{
  "nbformat": 4,
  "nbformat_minor": 0,
  "metadata": {
    "colab": {
      "name": "Laboratorul 6 Linear Regression",
      "provenance": []
    },
    "kernelspec": {
      "name": "python3",
      "display_name": "Python 3"
    }
  },
  "cells": [
    {
      "cell_type": "code",
      "metadata": {
        "id": "Ur60XppkNrE3",
        "colab_type": "code",
        "outputId": "7426e6fd-8204-43ba-efed-4fccdf4dcd13",
        "colab": {
          "base_uri": "https://localhost:8080/",
          "height": 219
        }
      },
      "source": [
        "!wget https://fmi-unibuc-ia.github.io/ia/Data/data_lab6.zip"
      ],
      "execution_count": 0,
      "outputs": [
        {
          "output_type": "stream",
          "text": [
            "--2020-05-07 08:29:31--  https://fmi-unibuc-ia.github.io/ia/Data/data_lab6.zip\n",
            "Resolving fmi-unibuc-ia.github.io (fmi-unibuc-ia.github.io)... 185.199.111.153, 185.199.110.153, 185.199.109.153, ...\n",
            "Connecting to fmi-unibuc-ia.github.io (fmi-unibuc-ia.github.io)|185.199.111.153|:443... connected.\n",
            "HTTP request sent, awaiting response... 200 OK\n",
            "Length: 55791 (54K) [application/zip]\n",
            "Saving to: ‘data_lab6.zip’\n",
            "\n",
            "\rdata_lab6.zip         0%[                    ]       0  --.-KB/s               \rdata_lab6.zip       100%[===================>]  54.48K  --.-KB/s    in 0.008s  \n",
            "\n",
            "2020-05-07 08:29:31 (7.07 MB/s) - ‘data_lab6.zip’ saved [55791/55791]\n",
            "\n"
          ],
          "name": "stdout"
        }
      ]
    },
    {
      "cell_type": "code",
      "metadata": {
        "id": "h69S8GCbQNRb",
        "colab_type": "code",
        "outputId": "6c2a2f4e-923a-4a1f-fab6-d18f00701b38",
        "colab": {
          "base_uri": "https://localhost:8080/",
          "height": 72
        }
      },
      "source": [
        "!unzip data_lab6.zip"
      ],
      "execution_count": 0,
      "outputs": [
        {
          "output_type": "stream",
          "text": [
            "Archive:  data_lab6.zip\n",
            "  inflating: data/prices.npy         \n",
            "  inflating: data/training_data.npy  \n"
          ],
          "name": "stdout"
        }
      ]
    },
    {
      "cell_type": "code",
      "metadata": {
        "id": "C585YEr0QOjw",
        "colab_type": "code",
        "colab": {}
      },
      "source": [
        "import numpy as np\n",
        "\n",
        "features = np.load('data/training_data.npy')\n",
        "labels = np.load('data/prices.npy')"
      ],
      "execution_count": 0,
      "outputs": []
    },
    {
      "cell_type": "code",
      "metadata": {
        "id": "hFbs3qZzQfjC",
        "colab_type": "code",
        "colab": {}
      },
      "source": [
        "from sklearn.preprocessing import MinMaxScaler, StandardScaler\n",
        "\n",
        "scaler = StandardScaler()\n",
        "y = scaler.fit_transform(labels.reshape(-1, 1))\n",
        "\n",
        "X = np.zeros_like(features)\n",
        "\n",
        "indices = [0, 5, 6]\n",
        "scaler = MinMaxScaler()\n",
        "X[:, indices] = scaler.fit_transform(features[:, indices])\n",
        "\n",
        "indices = [1, 2, 3, 4]\n",
        "scaler = StandardScaler()\n",
        "X[:, indices] = scaler.fit_transform(features[:, indices])"
      ],
      "execution_count": 0,
      "outputs": []
    },
    {
      "cell_type": "code",
      "metadata": {
        "id": "Jly1n5tXVCVF",
        "colab_type": "code",
        "outputId": "a0d4a641-4bf1-4900-934a-3972fa7d8569",
        "colab": {
          "base_uri": "https://localhost:8080/",
          "height": 90
        }
      },
      "source": [
        "\"\"\"\n",
        "2.Folosind mulțimea de antrenare din setul de date Car Price Prediction\n",
        " antrenați unmodel de regresie liniară\n",
        "folosind validarea încrucișată cu 3 fold-uri. \n",
        "\n",
        "Calculați valoarea medie a funcțiilor MSE și MAE. \n",
        "Nu uitați să normalizați datele folosind metoda definită anterio\n",
        "\"\"\"\n",
        "\n",
        "from sklearn.model_selection import cross_validate\n",
        "from sklearn.linear_model import LinearRegression\n",
        "\n",
        "model = LinearRegression()\n",
        "\n",
        "scoring = ['neg_mean_absolute_error', 'neg_mean_squared_error']\n",
        "scores = cross_validate(model, X, y, cv=3, scoring=scoring)\n",
        "scores"
      ],
      "execution_count": 0,
      "outputs": [
        {
          "output_type": "execute_result",
          "data": {
            "text/plain": [
              "{'fit_time': array([0.01243138, 0.00379753, 0.00328588]),\n",
              " 'score_time': array([0.0017395 , 0.00108337, 0.00112891]),\n",
              " 'test_neg_mean_absolute_error': array([-0.42374608, -0.42122212, -0.41698897]),\n",
              " 'test_neg_mean_squared_error': array([-0.33023247, -0.34771675, -0.32657307])}"
            ]
          },
          "metadata": {
            "tags": []
          },
          "execution_count": 83
        }
      ]
    },
    {
      "cell_type": "code",
      "metadata": {
        "id": "qgvpVpsfa4Ma",
        "colab_type": "code",
        "outputId": "8aaed40c-32a9-411d-940a-67f5a92364b0",
        "colab": {
          "base_uri": "https://localhost:8080/",
          "height": 146
        }
      },
      "source": [
        "from sklearn.linear_model import Ridge\n",
        "\n",
        "for alpha in [1e-3, 1e-2, 0.1, 1, 10, 100, 1000]:\n",
        "    model = Ridge(alpha=alpha)\n",
        "    scores = cross_validate(model, X, y, cv=3, scoring=scoring)\n",
        "\n",
        "    print(f\"Alpha\", alpha,\n",
        "          \"MSE\", np.mean(scores['test_neg_mean_squared_error']),\n",
        "          \"MAE\", np.mean(scores['test_neg_mean_absolute_error']))"
      ],
      "execution_count": 0,
      "outputs": [
        {
          "output_type": "stream",
          "text": [
            "Alpha 0.001 MSE -0.33484071493148804 MAE -0.42065200209617615\n",
            "Alpha 0.01 MSE -0.3348401387532552 MAE -0.42064859469731647\n",
            "Alpha 0.1 MSE -0.3348351816336314 MAE -0.42061490813891095\n",
            "Alpha 1 MSE -0.33484827478726703 MAE -0.4203367431958516\n",
            "Alpha 10 MSE -0.33917226394017536 MAE -0.42092961072921753\n",
            "Alpha 100 MSE -0.41076989968617755 MAE -0.4643791615962982\n",
            "Alpha 1000 MSE -0.5319293538729349 MAE -0.5518161455790201\n"
          ],
          "name": "stdout"
        }
      ]
    },
    {
      "cell_type": "code",
      "metadata": {
        "id": "BF40Vkj1dQg6",
        "colab_type": "code",
        "outputId": "21065a5d-5789-4ea1-921e-46fb0717de29",
        "colab": {
          "base_uri": "https://localhost:8080/",
          "height": 127
        }
      },
      "source": [
        "model = Ridge(alpha=1e-3)\n",
        "model.fit(X, y)\n",
        "coefs = model.coef_[0]\n",
        "intercept = model.intercept_[0]\n",
        "print(\"Coeficients:\\n\", coefs)\n",
        "print(\"Intercept:\", intercept)\n",
        "np.argsort(-coefs)"
      ],
      "execution_count": 0,
      "outputs": [
        {
          "output_type": "stream",
          "text": [
            "Coeficients:\n",
            " [ 3.3555653  -0.0192593   0.01370742  0.30612317  0.45155236  0.33223042\n",
            " -0.16982792  0.          0.          0.          0.          0.\n",
            "  0.          0.        ]\n",
            "Intercept: -2.4864757\n"
          ],
          "name": "stdout"
        },
        {
          "output_type": "execute_result",
          "data": {
            "text/plain": [
              "array([ 0,  4,  5,  3,  2,  7,  8,  9, 10, 11, 12, 13,  1,  6])"
            ]
          },
          "metadata": {
            "tags": []
          },
          "execution_count": 105
        }
      ]
    },
    {
      "cell_type": "code",
      "metadata": {
        "id": "uNGuKYZde0iw",
        "colab_type": "code",
        "colab": {}
      },
      "source": [
        ""
      ],
      "execution_count": 0,
      "outputs": []
    }
  ]
}