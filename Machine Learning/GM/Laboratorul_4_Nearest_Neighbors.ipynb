{
  "nbformat": 4,
  "nbformat_minor": 0,
  "metadata": {
    "colab": {
      "name": "Laboratorul 4 Nearest Neighbors.ipynb",
      "provenance": []
    },
    "kernelspec": {
      "name": "python3",
      "display_name": "Python 3"
    }
  },
  "cells": [
    {
      "cell_type": "code",
      "metadata": {
        "id": "p5NIiW7xXteX",
        "colab_type": "code",
        "outputId": "44a9f244-ccc4-4ba9-d19a-991c2a80d596",
        "colab": {
          "base_uri": "https://localhost:8080/",
          "height": 215
        }
      },
      "source": [
        "!wget https://fmi-unibuc-ia.github.io/ia/Data/data_MNIST.zip"
      ],
      "execution_count": 0,
      "outputs": [
        {
          "output_type": "stream",
          "text": [
            "--2020-04-27 06:42:41--  https://fmi-unibuc-ia.github.io/ia/Data/data_MNIST.zip\n",
            "Resolving fmi-unibuc-ia.github.io (fmi-unibuc-ia.github.io)... 185.199.108.153, 185.199.110.153, 185.199.109.153, ...\n",
            "Connecting to fmi-unibuc-ia.github.io (fmi-unibuc-ia.github.io)|185.199.108.153|:443... connected.\n",
            "HTTP request sent, awaiting response... 200 OK\n",
            "Length: 629644 (615K) [application/zip]\n",
            "Saving to: ‘data_MNIST.zip’\n",
            "\n",
            "\rdata_MNIST.zip        0%[                    ]       0  --.-KB/s               \rdata_MNIST.zip      100%[===================>] 614.89K  --.-KB/s    in 0.07s   \n",
            "\n",
            "2020-04-27 06:42:42 (8.50 MB/s) - ‘data_MNIST.zip’ saved [629644/629644]\n",
            "\n"
          ],
          "name": "stdout"
        }
      ]
    },
    {
      "cell_type": "code",
      "metadata": {
        "id": "jyp-qk0hX4bz",
        "colab_type": "code",
        "outputId": "17ed5598-934d-41c2-ea45-c3bddc550ebd",
        "colab": {
          "base_uri": "https://localhost:8080/",
          "height": 107
        }
      },
      "source": [
        "!unzip data_MNIST.zip"
      ],
      "execution_count": 0,
      "outputs": [
        {
          "output_type": "stream",
          "text": [
            "Archive:  data_MNIST.zip\n",
            "  inflating: data/test_images.txt    \n",
            "  inflating: data/test_labels.txt    \n",
            "  inflating: data/train_images.txt   \n",
            "  inflating: data/train_labels.txt   \n"
          ],
          "name": "stdout"
        }
      ]
    },
    {
      "cell_type": "code",
      "metadata": {
        "id": "JBlXX-44Y9n0",
        "colab_type": "code",
        "colab": {}
      },
      "source": [
        "import numpy as np\n",
        "import matplotlib.pyplot as plt\n",
        "\n",
        "train_images = np.loadtxt('data/train_images.txt')\n",
        "train_labels = np.loadtxt('data/train_labels.txt').astype(np.int64)\n",
        "\n",
        "test_images = np.loadtxt('data/test_images.txt')\n",
        "test_labels = np.loadtxt('data/test_labels.txt').astype(np.int64)"
      ],
      "execution_count": 0,
      "outputs": []
    },
    {
      "cell_type": "code",
      "metadata": {
        "id": "qKbMu6qcX5n-",
        "colab_type": "code",
        "outputId": "340a4af5-acc4-41fa-81ea-aa19c861d017",
        "colab": {
          "base_uri": "https://localhost:8080/",
          "height": 283
        }
      },
      "source": [
        "class KNNClassifier:\n",
        "    def __init__(self, train_images, train_labels):\n",
        "        self.train_images = train_images\n",
        "        self.train_labels = train_labels\n",
        "\n",
        "    def classify_image(self, test_image, num_neighbors=3, metric='l2'):\n",
        "        if metric == 'l2':\n",
        "            distances = np.sum((train_images - test_image) ** 2, axis=-1)\n",
        "        elif metric == 'l1':\n",
        "            distances = np.sum(np.abs(train_images - test_image), axis=-1)\n",
        "\n",
        "        sorted_indexes = np.argsort(distances)\n",
        "\n",
        "        top_neighbors = self.train_labels[sorted_indexes[:num_neighbors]]\n",
        "\n",
        "        class_counts = np.bincount(top_neighbors)\n",
        "        \n",
        "        return np.argmax(class_counts)\n",
        "\n",
        "clf = KNNClassifier(train_images, train_labels)\n",
        "print('Predicted class:', clf.classify_image(train_images[0]))\n",
        "\n",
        "plt.imshow(train_images[0].reshape(28, 28), cmap='gray')\n",
        "plt.show()"
      ],
      "execution_count": 0,
      "outputs": [
        {
          "output_type": "stream",
          "text": [
            "Predicted class: 4\n"
          ],
          "name": "stdout"
        },
        {
          "output_type": "display_data",
          "data": {
            "image/png": "[encoded data removed]",
            "text/plain": [
              "<Figure size 432x288 with 1 Axes>"
            ]
          },
          "metadata": {
            "tags": [],
            "needs_background": "light"
          }
        }
      ]
    },
    {
      "cell_type": "code",
      "metadata": {
        "id": "rz211w7kecPg",
        "colab_type": "code",
        "outputId": "093e7c13-d1f8-477d-d140-0efd0fe351b8",
        "colab": {
          "base_uri": "https://localhost:8080/",
          "height": 35
        }
      },
      "source": [
        "predictions = []\n",
        "for test_image in test_images:\n",
        "    pred_label = clf.classify_image(test_image)\n",
        "    predictions.append(pred_label)\n",
        "\n",
        "pred_labels = np.array(predictions)\n",
        "\n",
        "np.savetxt('predictii_3nn_l2_mnist.txt', pred_labels)\n",
        "\n",
        "correct_count = np.sum(pred_labels == test_labels)\n",
        "total_count = len(test_labels)\n",
        "\n",
        "accuracy = correct_count / total_count\n",
        "\n",
        "print(f'Accuracy: {accuracy * 100}%')"
      ],
      "execution_count": 0,
      "outputs": [
        {
          "output_type": "stream",
          "text": [
            "Accuracy: 89.8%\n"
          ],
          "name": "stdout"
        }
      ]
    },
    {
      "cell_type": "code",
      "metadata": {
        "id": "51vlzbfVhmcN",
        "colab_type": "code",
        "colab": {}
      },
      "source": [
        "ks = [1, 3, 5, 7, 9]\n",
        "\n",
        "def compute_accuracy(metric):\n",
        "    accuracies = []\n",
        "\n",
        "    for k in ks:\n",
        "        correct_count = 0\n",
        "        for test_image, test_label in zip(test_images, test_labels):\n",
        "            pred_label = clf.classify_image(test_image, num_neighbors=k, metric=metric)\n",
        "            if pred_label == test_label:\n",
        "                correct_count += 1\n",
        "\n",
        "        accuracy = correct_count / len(test_images)\n",
        "            \n",
        "        accuracies.append(accuracy)\n",
        "\n",
        "    np.savetxt(f'acuratete_{metric}.txt', np.array(accuracies))\n",
        "\n",
        "compute_accuracy('l2')\n",
        "compute_accuracy('l1')"
      ],
      "execution_count": 0,
      "outputs": []
    },
    {
      "cell_type": "code",
      "metadata": {
        "id": "-he3iL7ykYHq",
        "colab_type": "code",
        "outputId": "3fc89056-a226-498a-c6ba-7dd283e88b93",
        "colab": {
          "base_uri": "https://localhost:8080/",
          "height": 265
        }
      },
      "source": [
        "l2_accs = np.loadtxt('acuratete_l2.txt')\n",
        "l1_accs = np.loadtxt('acuratete_l1.txt')\n",
        "\n",
        "plt.plot(l2_accs, label='L2')\n",
        "plt.plot(l1_accs, label='L1')\n",
        "\n",
        "plt.show()"
      ],
      "execution_count": 0,
      "outputs": [
        {
          "output_type": "display_data",
          "data": {
            "image/png": "[encoded data removed]",
            "text/plain": [
              "<Figure size 432x288 with 1 Axes>"
            ]
          },
          "metadata": {
            "tags": [],
            "needs_background": "light"
          }
        }
      ]
    }
  ]
}
