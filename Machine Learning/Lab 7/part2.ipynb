{
 "cells": [
  {
   "cell_type": "code",
   "execution_count": 1,
   "id": "a97b9947-6dc6-4904-8754-d43f0a6384a4",
   "metadata": {},
   "outputs": [],
   "source": [
    "import numpy as np\n",
    "from sklearn.neural_network import MLPClassifier\n",
    "from sklearn import preprocessing"
   ]
  },
  {
   "cell_type": "code",
   "execution_count": 2,
   "id": "447fa648-67a0-45c8-8283-d5f9ed00f983",
   "metadata": {},
   "outputs": [],
   "source": [
    "# incarcarea datelor de antrenare\n",
    "X_train = np.loadtxt('data/MNIST/train_images.txt')\n",
    "y_train = np.loadtxt('data/MNIST/train_labels.txt') \n",
    "\n",
    "# incarcarea datelor de testare\n",
    "X_test = np.loadtxt('data/MNIST/test_images.txt')\n",
    "y_test = np.loadtxt('data/MNIST/test_labels.txt') "
   ]
  },
  {
   "cell_type": "code",
   "execution_count": 3,
   "id": "0299dfaf-ad7a-48b8-aa00-20b4ecc42b5d",
   "metadata": {},
   "outputs": [],
   "source": [
    "scaler = preprocessing.StandardScaler()\n",
    "scaler.fit(X_train)\n",
    "\n",
    "X_train = scaler.transform(X_train)\n",
    "X_test = scaler.transform(X_test)"
   ]
  },
  {
   "cell_type": "code",
   "execution_count": 9,
   "id": "04275aa4-bf2c-4e52-80b2-158442dd3c49",
   "metadata": {},
   "outputs": [],
   "source": [
    "def train_model(model, X_train, X_test, y_train, y_test):\n",
    "    model.fit(X_train, y_train)\n",
    "    train_acc = model.score(X_train, y_train)\n",
    "    test_acc = model.score(X_test, y_test)\n",
    "    print(\"Accuratete pe antrenare: {}\".format(train_acc))\n",
    "    print(\"Accuratete pe testare: {}\".format(test_acc))\n",
    "    print(\"Numarul de iteratii: {}\".format(model.n_iter_))"
   ]
  },
  {
   "cell_type": "code",
   "execution_count": 10,
   "id": "3a79ead4-628a-4d51-8105-c908fed85561",
   "metadata": {},
   "outputs": [
    {
     "name": "stdout",
     "output_type": "stream",
     "text": [
      "Accuratete pe antrenare: 1.0\n",
      "Accuratete pe testare: 0.9\n",
      "Numarul de iteratii: 26\n"
     ]
    }
   ],
   "source": [
    "mlp_model = MLPClassifier(activation='relu', hidden_layer_sizes=(100, 100), learning_rate_init=0.01, momentum=0.9, max_iter=2000, alpha=0.005)\n",
    "\n",
    "train_model(mlp_model, X_train, X_test, y_train, y_test)"
   ]
  },
  {
   "cell_type": "code",
   "execution_count": null,
   "id": "77ad9e05-946d-4b8a-b33b-87d9743bf8de",
   "metadata": {},
   "outputs": [],
   "source": []
  }
 ],
 "metadata": {
  "kernelspec": {
   "display_name": "Python 3",
   "language": "python",
   "name": "python3"
  },
  "language_info": {
   "codemirror_mode": {
    "name": "ipython",
    "version": 3
   },
   "file_extension": ".py",
   "mimetype": "text/x-python",
   "name": "python",
   "nbconvert_exporter": "python",
   "pygments_lexer": "ipython3",
   "version": "3.8.8"
  }
 },
 "nbformat": 4,
 "nbformat_minor": 5
}
