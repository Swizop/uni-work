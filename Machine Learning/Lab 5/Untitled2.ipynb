{
 "cells": [
  {
   "cell_type": "code",
   "execution_count": 1,
   "id": "6434641e-805c-4997-ac3d-cee1ccd9e8a9",
   "metadata": {},
   "outputs": [],
   "source": [
    "import numpy as np\n",
    "from sklearn.utils import shuffle\n",
    "from sklearn.metrics import mean_squared_error, mean_absolute_error \n",
    "from sklearn import preprocessing\n",
    "from sklearn.linear_model import LinearRegression, Ridge, Lasso\n",
    "import pdb\n"
   ]
  },
  {
   "cell_type": "code",
   "execution_count": 2,
   "id": "44602f05-a627-4baa-8bb5-0d9decc2543e",
   "metadata": {},
   "outputs": [
    {
     "name": "stdout",
     "output_type": "stream",
     "text": [
      "The first 4 samples are:\n",
      "  [[2.0150e+03 4.1000e+04 1.9670e+01 1.5820e+03 1.2620e+02 5.0000e+00\n",
      "  1.0000e+00 0.0000e+00 1.0000e+00 0.0000e+00 0.0000e+00 0.0000e+00\n",
      "  1.0000e+00 0.0000e+00]\n",
      " [2.0110e+03 4.6000e+04 1.8200e+01 1.1990e+03 8.8700e+01 5.0000e+00\n",
      "  1.0000e+00 0.0000e+00 0.0000e+00 1.0000e+00 0.0000e+00 0.0000e+00\n",
      "  1.0000e+00 0.0000e+00]\n",
      " [2.0120e+03 8.7000e+04 2.0770e+01 1.2480e+03 8.8760e+01 7.0000e+00\n",
      "  1.0000e+00 0.0000e+00 1.0000e+00 0.0000e+00 0.0000e+00 0.0000e+00\n",
      "  1.0000e+00 0.0000e+00]\n",
      " [2.0130e+03 8.6999e+04 2.3080e+01 1.4610e+03 6.3100e+01 5.0000e+00\n",
      "  1.0000e+00 0.0000e+00 1.0000e+00 0.0000e+00 0.0000e+00 0.0000e+00\n",
      "  1.0000e+00 0.0000e+00]]\n",
      "The first 4 prices are:\n",
      "  [12.5  4.5  6.   3.5]\n"
     ]
    }
   ],
   "source": [
    "\n",
    "# load training data\n",
    "training_data = np.load('data/training_data.npy')    \n",
    "prices = np.load('data/prices.npy')  \n",
    "  \n",
    "# print the first 4 samples\n",
    "print('The first 4 samples are:\\n ', training_data[:4])\n",
    "print('The first 4 prices are:\\n ', prices[:4])"
   ]
  },
  {
   "cell_type": "code",
   "execution_count": 3,
   "id": "af02942b-ac10-4f66-b344-2ca2c3d57e71",
   "metadata": {},
   "outputs": [],
   "source": [
    "training_data, prices = shuffle(training_data, prices, random_state=0)"
   ]
  },
  {
   "cell_type": "code",
   "execution_count": 4,
   "id": "47f56179-fe81-4f59-a6fb-c7ce461f2820",
   "metadata": {},
   "outputs": [],
   "source": [
    "# normalizare \n",
    "def normalize_data(training, testing=None):\n",
    "    scaler = preprocessing.StandardScaler() \n",
    "    scaler.fit(training)    \n",
    "    scaled_x_train = scaler.transform(training) \n",
    "    if testing is None:\n",
    "        return scaled_x_train\n",
    "    scaled_x_test = scaler.transform(testing) \n",
    "    return scaled_x_train, scaled_x_test"
   ]
  },
  {
   "cell_type": "code",
   "execution_count": 5,
   "id": "970efea9-aafe-4764-a2d4-abac83ba95e6",
   "metadata": {},
   "outputs": [
    {
     "name": "stdout",
     "output_type": "stream",
     "text": [
      "4879\n"
     ]
    }
   ],
   "source": [
    "print(len(training_data))\n",
    "num_samples_fold = len(training_data) // 3\n",
    "training_data_1, prices_1 = training_data[:num_samples_fold], prices[:num_samples_fold]\n",
    "training_data_2, prices_2 = training_data[num_samples_fold: 2 * num_samples_fold], prices[num_samples_fold: 2 * num_samples_fold]\n",
    "training_data_3, prices_3 = training_data[2 * num_samples_fold:], prices[2 * num_samples_fold:]\n"
   ]
  },
  {
   "cell_type": "code",
   "execution_count": 6,
   "id": "4674a529-040e-4896-bb59-d6c4d933f9cd",
   "metadata": {},
   "outputs": [],
   "source": [
    "def normalizare_train_model(model, training_samples, labels, testing_data, testing_labels): \n",
    "    training_samples, testing_data = normalize_data(training_samples, testing_data) \n",
    "    model.fit(training_samples, labels) \n",
    "    return mean_absolute_error(testing_labels, model.predict(testing_data)), mean_squared_error(testing_labels, model.predict(testing_data))"
   ]
  },
  {
   "cell_type": "markdown",
   "metadata": {},
   "source": []
  },
  {
   "cell_type": "code",
   "execution_count": null,
   "id": "5c6e21ec-de90-4638-95ef-0dc9b78cf806",
   "metadata": {},
   "outputs": [],
   "source": [
    "\n",
    "model = LinearRegression()\n",
    "mae_1, mse_1 = normalizare_train_model(model, np.concatenate((training_data_1, training_data_2)), np.concatenate((prices_1, prices_2)), training_data_3, prices_3)\n",
    "mae_2, mse_2 = normalizare_train_model(model, np.concatenate((training_data_1, training_data_3)), np.concatenate((prices_1, prices_3)), training_data_2, prices_2)\n",
    "mae_3, mse_3 = normalizare_train_model(model, np.concatenate((training_data_3, training_data_2)), np.concatenate((prices_3, prices_2)), training_data_1, prices_1)\n",
    "\n",
    "print('Mean MAE', (mae_1 + mae_2 + mae_3) / 3)\n",
    "print('Mean MSE', (mse_1 + mse_2 + mse_3) / 3)"
   ]
  }
 ],
 "metadata": {
  "kernelspec": {
   "display_name": "Python 3",
   "language": "python",
   "name": "python3"
  },
  "language_info": {
   "codemirror_mode": {
    "name": "ipython",
    "version": 3
   },
   "file_extension": ".py",
   "mimetype": "text/x-python",
   "name": "python",
   "nbconvert_exporter": "python",
   "pygments_lexer": "ipython3",
   "version": "3.8.8"
  }
 },
 "nbformat": 4,
 "nbformat_minor": 5
}
