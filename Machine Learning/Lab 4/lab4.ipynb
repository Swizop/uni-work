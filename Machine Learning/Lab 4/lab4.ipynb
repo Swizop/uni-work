{
 "cells": [
  {
   "cell_type": "code",
   "execution_count": 22,
   "id": "3c716345-9bff-4bbd-9c04-a43e9d6c4898",
   "metadata": {},
   "outputs": [],
   "source": [
    "import numpy as np\n",
    "from sklearn import preprocessing\n",
    "from sklearn import svm\n",
    "from sklearn.metrics import f1_score"
   ]
  },
  {
   "cell_type": "code",
   "execution_count": 23,
   "id": "2b8ecee0-7c6d-43a9-88b4-005d6daa7c73",
   "metadata": {},
   "outputs": [],
   "source": [
    "#functie accuratete\n",
    "def accuracy_score(true_labels, predicted_labels):\n",
    "    return (true_labels==predicted_labels).mean()"
   ]
  },
  {
   "cell_type": "code",
   "execution_count": 8,
   "id": "e10b9c32-cd85-4f42-b00b-a459ed2101b3",
   "metadata": {},
   "outputs": [],
   "source": [
    "def normalize_data(train_data, test_data, type=None):\n",
    "    scaler = None\n",
    "    if type == 'standard':\n",
    "        scaler = preprocessing.StandardScaler()\n",
    "\n",
    "\n",
    "    elif type == 'l1':\n",
    "        scaler = preprocessing.Normalizer(norm='l1')\n",
    "\n",
    "    elif type == 'l2':\n",
    "        scaler = preprocessing.Normalizer(norm='l2')\n",
    "\n",
    "    if scaler is not None:\n",
    "        scaler.fit(train_data)\n",
    "        scaled_train_data = scaler.transform(train_data)\n",
    "        scaled_test_data = scaler.transform(test_data) \n",
    "        return (scaled_train_data, scaled_test_data)\n",
    "    else:\n",
    "        print(\"No scaling was performed. Raw data is returned.\")\n",
    "        return (train_data, test_data)"
   ]
  },
  {
   "cell_type": "code",
   "execution_count": 9,
   "id": "2117818e-a56b-4c8d-a8b5-960e7c98230e",
   "metadata": {},
   "outputs": [],
   "source": [
    "# load data\n",
    "training_data = np.load('data/training_sentences.npy', allow_pickle=True)\n",
    "training_labels = np.load('data/training_labels.npy')\n",
    "\n",
    "test_data = np.load('data/test_sentences.npy', allow_pickle=True)\n",
    "test_labels = np.load('data/test_labels.npy')"
   ]
  },
  {
   "cell_type": "code",
   "execution_count": 10,
   "id": "a1317ee0-c37b-4988-9343-fb2aea2eede4",
   "metadata": {},
   "outputs": [
    {
     "data": {
      "text/plain": [
       "array([list(['Probably', 'not', 'still', 'going', 'over', 'some', 'stuff', 'here']),\n",
       "       list(['I', 'HAVE', 'A', 'DATE', 'ON', 'SUNDAY', 'WITH', 'WILL']),\n",
       "       list(['Thanks', '4', 'your', 'continued', 'support', 'Your', 'question', 'this', 'week', 'will', 'enter', 'u', 'in2', 'our', 'draw', '4', 'Â£100', 'cash', 'Name', 'the', 'NEW', 'US', 'President', 'txt', 'ans', 'to', '80082']),\n",
       "       ...,\n",
       "       list(['OH', 'FUCK', 'JUSWOKE', 'UP', 'IN', 'A', 'BED', 'ON', 'A', 'BOATIN', 'THE', 'DOCKS', 'SLEPT', 'WID', '25', 'YEAR', 'OLD', 'SPINOUT', 'GIV', 'U', 'DA', 'GOSSIP', 'L8R', 'XXX']),\n",
       "       list(['NOT', 'MUCH', 'NO', 'FIGHTS', 'IT', 'WAS', 'A', 'GOOD', 'NITE']),\n",
       "       list(['Did', 'he', 'just', 'say', 'somebody', 'is', 'named', 'tampa'])],\n",
       "      dtype=object)"
      ]
     },
     "execution_count": 10,
     "metadata": {},
     "output_type": "execute_result"
    }
   ],
   "source": [
    "training_data"
   ]
  },
  {
   "cell_type": "code",
   "execution_count": 11,
   "id": "98ee57ee-e0d9-4637-8952-58a942493490",
   "metadata": {},
   "outputs": [],
   "source": [
    "class Bag_of_words:\n",
    "\n",
    "    def __init__(self):\n",
    "        self.vocabulary = {}\n",
    "        self.words = []\n",
    "        self.vocabulary_length = 0\n",
    "\n",
    "    def build_vocabulary(self, data):\n",
    "        for document in data:\n",
    "            for word in document:\n",
    "                # word = word.lower()\n",
    "                if word not in self.vocabulary.keys():\n",
    "                    self.vocabulary[word] = len(self.vocabulary)\n",
    "                    self.words.append(word)\n",
    "\n",
    "        self.vocabulary_length = len(self.vocabulary)\n",
    "        self.words = np.array(self.words)\n",
    "        \n",
    "    def get_features(self, data):\n",
    "        features = np.zeros((len(data), self.vocabulary_length))\n",
    "\n",
    "        for document_idx, document in enumerate(data):\n",
    "            for word in document:\n",
    "                if word in self.vocabulary.keys():\n",
    "                    features[document_idx, self.vocabulary[word]] += 1\n",
    "        return features"
   ]
  },
  {
   "cell_type": "code",
   "execution_count": 12,
   "id": "ee1783aa-4f0f-46f1-a4dc-9a8f2c084a96",
   "metadata": {},
   "outputs": [],
   "source": [
    "bow_model = Bag_of_words()\n",
    "bow_model.build_vocabulary(training_data) "
   ]
  },
  {
   "cell_type": "code",
   "execution_count": 17,
   "id": "0c680712-3045-406a-9ff7-de44c0b8014c",
   "metadata": {},
   "outputs": [
    {
     "name": "stdout",
     "output_type": "stream",
     "text": [
      "9522\n"
     ]
    }
   ],
   "source": [
    "print(len(bow_model.vocabulary))"
   ]
  },
  {
   "cell_type": "code",
   "execution_count": 18,
   "id": "2d73efcf-a877-4acd-bce1-1de995dbde17",
   "metadata": {},
   "outputs": [],
   "source": [
    "train_features = bow_model.get_features(training_data)\n",
    "test_features = bow_model.get_features(test_data) "
   ]
  },
  {
   "cell_type": "code",
   "execution_count": 19,
   "id": "2beadb05-4a4e-4a2f-9f9d-2536b13513c6",
   "metadata": {},
   "outputs": [
    {
     "name": "stdout",
     "output_type": "stream",
     "text": [
      "(3734, 9522)\n",
      "(1840, 9522)\n"
     ]
    }
   ],
   "source": [
    "print(train_features.shape)\n",
    "print(test_features.shape)"
   ]
  },
  {
   "cell_type": "code",
   "execution_count": 20,
   "id": "e3598180-d620-4b84-bd29-54cc55cabd91",
   "metadata": {},
   "outputs": [],
   "source": [
    "scaled_train_data, scaled_test_data = normalize_data(train_features, test_features, type='l2')"
   ]
  },
  {
   "cell_type": "code",
   "execution_count": 24,
   "id": "c84eaba5-6aee-4a26-aa55-cdc06ef4a71d",
   "metadata": {},
   "outputs": [
    {
     "name": "stdout",
     "output_type": "stream",
     "text": [
      "f1 score 0.9598393574297189\n",
      "SVM model accuracy:  98.91304347826086\n"
     ]
    }
   ],
   "source": [
    "svm_model = svm.SVC(C=10, kernel='linear')\n",
    "svm_model.fit(scaled_train_data, training_labels)\n",
    "predicted_labels_svm = svm_model.predict(scaled_test_data)\n",
    "model_accuracy_svm = accuracy_score(np.asarray(test_labels), predicted_labels_svm)\n",
    "print('f1 score', f1_score(np.asarray(test_labels), predicted_labels_svm))\n",
    "print(\"SVM model accuracy: \", model_accuracy_svm * 100)"
   ]
  },
  {
   "cell_type": "code",
   "execution_count": null,
   "id": "5145cc0e-3ed2-4b65-b22c-698b9587fe0d",
   "metadata": {},
   "outputs": [],
   "source": []
  }
 ],
 "metadata": {
  "kernelspec": {
   "display_name": "Python 3",
   "language": "python",
   "name": "python3"
  },
  "language_info": {
   "codemirror_mode": {
    "name": "ipython",
    "version": 3
   },
   "file_extension": ".py",
   "mimetype": "text/x-python",
   "name": "python",
   "nbconvert_exporter": "python",
   "pygments_lexer": "ipython3",
   "version": "3.8.8"
  }
 },
 "nbformat": 4,
 "nbformat_minor": 5
}
